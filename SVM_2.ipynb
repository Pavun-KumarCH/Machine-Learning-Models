{
  "nbformat": 4,
  "nbformat_minor": 0,
  "metadata": {
    "colab": {
      "private_outputs": true,
      "provenance": [],
      "authorship_tag": "ABX9TyPHR7NA2EJ23MDBIQjahOAu",
      "include_colab_link": true
    },
    "kernelspec": {
      "name": "python3",
      "display_name": "Python 3"
    },
    "language_info": {
      "name": "python"
    }
  },
  "cells": [
    {
      "cell_type": "markdown",
      "metadata": {
        "id": "view-in-github",
        "colab_type": "text"
      },
      "source": [
        "<a href=\"https://colab.research.google.com/github/Pavun-KumarCH/Machine-Learning-Models/blob/main/SVM_2.ipynb\" target=\"_parent\"><img src=\"https://colab.research.google.com/assets/colab-badge.svg\" alt=\"Open In Colab\"/></a>"
      ]
    },
    {
      "cell_type": "code",
      "execution_count": null,
      "metadata": {
        "id": "qYAhV4mb1qcW"
      },
      "outputs": [],
      "source": [
        "# Import required libraries\n",
        "import io\n",
        "import pandas as pd\n",
        "import numpy as np\n",
        "import matplotlib.pyplot as plt"
      ]
    },
    {
      "cell_type": "code",
      "source": [
        "from google.colab import files\n",
        "uploaded = files.upload()"
      ],
      "metadata": {
        "id": "svwEBNTJ11kV"
      },
      "execution_count": null,
      "outputs": []
    },
    {
      "cell_type": "code",
      "source": [
        "filename = next(iter(uploaded))\n",
        "filename"
      ],
      "metadata": {
        "id": "PGOA8F0h1_zS"
      },
      "execution_count": null,
      "outputs": []
    },
    {
      "cell_type": "code",
      "source": [
        "data = pd.read_csv(io.BytesIO(uploaded[filename]))\n",
        "data"
      ],
      "metadata": {
        "id": "hQg58kck2FuI"
      },
      "execution_count": null,
      "outputs": []
    },
    {
      "cell_type": "code",
      "source": [
        "data.info()"
      ],
      "metadata": {
        "id": "kvD2Ra-q2cG_"
      },
      "execution_count": null,
      "outputs": []
    },
    {
      "cell_type": "code",
      "source": [
        "# Check for any null values\n",
        "data.isna().sum()"
      ],
      "metadata": {
        "id": "TvheRPYp28XB"
      },
      "execution_count": null,
      "outputs": []
    },
    {
      "cell_type": "code",
      "source": [
        "# Remove unwanted columns\n",
        "data.drop(['ID'], axis = 1, inplace = True)"
      ],
      "metadata": {
        "id": "Oy1p8frh3Ced"
      },
      "execution_count": null,
      "outputs": []
    },
    {
      "cell_type": "code",
      "source": [
        "# Data Manupulation\n",
        "data = data[pd.to_numeric(data['BareNuc'], errors = 'coerce').notnull()]\n",
        "data['BareNuc'] = data['BareNuc'].astype('int')\n",
        "data.dtypes"
      ],
      "metadata": {
        "id": "3gRpChTX3OCg"
      },
      "execution_count": null,
      "outputs": []
    },
    {
      "cell_type": "markdown",
      "source": [
        "## Data Distribution of class"
      ],
      "metadata": {
        "id": "JTW1wGNs33EY"
      }
    },
    {
      "cell_type": "code",
      "source": [
        "benign_df = data[data.Class == 2][0:200]\n",
        "maligant_df = data[data['Class'] == 4][0:200]"
      ],
      "metadata": {
        "id": "vKIkd0Xt3CTu"
      },
      "execution_count": null,
      "outputs": []
    },
    {
      "cell_type": "code",
      "source": [
        "axes = benign_df.plot(kind = 'scatter', x = 'Clump', y = 'UnifSize', color = 'blue', label = 'Benign')\n",
        "maligant_df.plot(kind = 'scatter', x = 'Clump', y = 'UnifSize', color = 'red', label = 'Maligant', ax = axes)\n",
        "plt.legend()\n",
        "plt.show()\n"
      ],
      "metadata": {
        "id": "5pjYEOXL4PNo"
      },
      "execution_count": null,
      "outputs": []
    },
    {
      "cell_type": "markdown",
      "source": [
        "## Segregate the data into Features and Target Varaiable"
      ],
      "metadata": {
        "id": "UvEhJj2K2i9f"
      }
    },
    {
      "cell_type": "code",
      "source": [
        "X = data.iloc[:, :9]\n",
        "Y = data.iloc[:, 9]"
      ],
      "metadata": {
        "id": "DLNtuMBG2iQe"
      },
      "execution_count": null,
      "outputs": []
    },
    {
      "cell_type": "code",
      "source": [
        "print(X)\n",
        "print(Y)"
      ],
      "metadata": {
        "id": "0A1aW3pI6m5I"
      },
      "execution_count": null,
      "outputs": []
    },
    {
      "cell_type": "code",
      "source": [
        "X = np.asarray(X)\n",
        "Y = np.asarray(Y)"
      ],
      "metadata": {
        "id": "NDFK5LC-5mWI"
      },
      "execution_count": null,
      "outputs": []
    },
    {
      "cell_type": "code",
      "source": [
        "print(X)\n",
        "print(Y)"
      ],
      "metadata": {
        "id": "v2SCPSiU6smd"
      },
      "execution_count": null,
      "outputs": []
    },
    {
      "cell_type": "markdown",
      "source": [
        "## Split the data into train and test"
      ],
      "metadata": {
        "id": "QIZuFj2W5Ew9"
      }
    },
    {
      "cell_type": "code",
      "source": [
        "from sklearn.model_selection import train_test_split\n",
        "x_train,x_test,y_train,y_test = train_test_split(X,Y, test_size = 0.2, random_state = 0)"
      ],
      "metadata": {
        "id": "j0r_1jY85Agy"
      },
      "execution_count": null,
      "outputs": []
    },
    {
      "cell_type": "code",
      "source": [
        "x_train.shape\n",
        "x_test.shape"
      ],
      "metadata": {
        "id": "95oZSAkL5b9T"
      },
      "execution_count": null,
      "outputs": []
    },
    {
      "cell_type": "markdown",
      "source": [
        "## Model Building"
      ],
      "metadata": {
        "id": "_TxUSOan5p-O"
      }
    },
    {
      "cell_type": "code",
      "source": [
        "from sklearn.svm import SVC\n",
        "classifier = SVC(kernel = 'linear', gamma = 'auto', C = 2, random_state = 0)\n",
        "classifier.fit(x_train,y_train)"
      ],
      "metadata": {
        "id": "4ayUOUgj5pYr"
      },
      "execution_count": null,
      "outputs": []
    },
    {
      "cell_type": "code",
      "source": [
        "y_pred = classifier.predict(x_test)"
      ],
      "metadata": {
        "id": "4UZgR8an6DUD"
      },
      "execution_count": null,
      "outputs": []
    },
    {
      "cell_type": "markdown",
      "source": [
        "## Evaluation"
      ],
      "metadata": {
        "id": "6UPMBgA46IYR"
      }
    },
    {
      "cell_type": "code",
      "source": [
        "from sklearn.metrics import classification_report\n",
        "\n",
        "print(classification_report(y_test, y_pred))"
      ],
      "metadata": {
        "id": "X5HRzRVF6Hin"
      },
      "execution_count": null,
      "outputs": []
    }
  ]
}