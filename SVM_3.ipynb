{
  "nbformat": 4,
  "nbformat_minor": 0,
  "metadata": {
    "colab": {
      "private_outputs": true,
      "provenance": [],
      "authorship_tag": "ABX9TyOYx6JphUGIxgKRaUhiQYi/",
      "include_colab_link": true
    },
    "kernelspec": {
      "name": "python3",
      "display_name": "Python 3"
    },
    "language_info": {
      "name": "python"
    }
  },
  "cells": [
    {
      "cell_type": "markdown",
      "metadata": {
        "id": "view-in-github",
        "colab_type": "text"
      },
      "source": [
        "<a href=\"https://colab.research.google.com/github/Pavun-KumarCH/Machine-Learning-Models/blob/main/SVM_3.ipynb\" target=\"_parent\"><img src=\"https://colab.research.google.com/assets/colab-badge.svg\" alt=\"Open In Colab\"/></a>"
      ]
    },
    {
      "cell_type": "code",
      "execution_count": null,
      "metadata": {
        "id": "KOElPTEr3GE2"
      },
      "outputs": [],
      "source": [
        "# Required Libraries\n",
        "import numpy as np\n",
        "import pandas as pd\n",
        "import matplotlib.pyplot as plt\n",
        "\n",
        "x = np.linspace(-5.0, 5.0, 100)\n",
        "y =  np.sqrt(10**2 - x**2)\n",
        "y = np.hstack([y,-y])\n",
        "x = np.hstack([x, -x])"
      ]
    },
    {
      "cell_type": "code",
      "source": [
        "x1 = np.linspace(-5.0, 5.0, 100)\n",
        "y1 = np.sqrt(5**2 - x1**2)\n",
        "x1 = np.hstack([x1, -x1])\n",
        "y1 = np.hstack([y1, -y1])"
      ],
      "metadata": {
        "id": "Kas1Nccl4XEo"
      },
      "execution_count": null,
      "outputs": []
    },
    {
      "cell_type": "code",
      "source": [
        "plt.scatter(y, x)\n",
        "plt.scatter(y1, x1)"
      ],
      "metadata": {
        "id": "ivA4d6Ld43r4"
      },
      "execution_count": null,
      "outputs": []
    },
    {
      "cell_type": "code",
      "source": [
        "df1 = pd.DataFrame(np.vstack([y,x]).T, columns = ['X1','X2'])\n",
        "df1['Y'] = 0\n",
        "\n",
        "df2 = pd.DataFrame(np.vstack([y1, x1]).T, columns = ['X1','X2'])\n",
        "df2['Y'] = 1\n",
        "df = pd.concat([df1, df2], ignore_index=True)  # Concatenating df1 and df2 along rows to create a single dataframe\n",
        "df.head(5)"
      ],
      "metadata": {
        "id": "Qvy3rhOS5YYl"
      },
      "execution_count": null,
      "outputs": []
    },
    {
      "cell_type": "code",
      "source": [
        "## Independent and Dependent features\n",
        "X = df.iloc[:,:2]\n",
        "Y = df.Y"
      ],
      "metadata": {
        "id": "1Q6yl_IBFtJU"
      },
      "execution_count": null,
      "outputs": []
    },
    {
      "cell_type": "code",
      "source": [
        "Y"
      ],
      "metadata": {
        "id": "4g_3eOpXF3Cn"
      },
      "execution_count": null,
      "outputs": []
    },
    {
      "cell_type": "code",
      "source": [
        "# Split the dataset into train and test\n",
        "from sklearn.model_selection import train_test_split\n",
        "x_train,x_test,y_train,y_test = train_test_split(X,Y, test_size =0.25, random_state = 0)"
      ],
      "metadata": {
        "id": "-4T-Q0qXF67z"
      },
      "execution_count": null,
      "outputs": []
    },
    {
      "cell_type": "code",
      "source": [
        "y_train"
      ],
      "metadata": {
        "id": "5ZysK0KHGQWH"
      },
      "execution_count": null,
      "outputs": []
    },
    {
      "cell_type": "code",
      "source": [
        "from sklearn.svm import SVC\n",
        "from sklearn.metrics import accuracy_score\n",
        "classifier = SVC(kernel = 'rbf')\n",
        "classifier.fit(x_train,y_train)"
      ],
      "metadata": {
        "id": "43QmPLMaGXAI"
      },
      "execution_count": null,
      "outputs": []
    },
    {
      "cell_type": "code",
      "source": [
        "y_pred = classifier.predict(x_test)\n",
        "accuracy_score(y_pred, y_test)"
      ],
      "metadata": {
        "id": "682DNV-pGnVv"
      },
      "execution_count": null,
      "outputs": []
    },
    {
      "cell_type": "code",
      "source": [
        "df.head()"
      ],
      "metadata": {
        "id": "k_sK3x13G8lF"
      },
      "execution_count": null,
      "outputs": []
    },
    {
      "cell_type": "code",
      "source": [
        "# We need to find components for the polynomial kernal\n",
        "#X1,X2,X!_square,X_Square, X1*X2\n",
        "df['X1_square'] = (df['X1']**2)\n",
        "df['X2_square'] = (df['X2']**2)\n",
        "df['X1*X2'] = (df['X1'] * df['X2'])\n",
        "df.head()"
      ],
      "metadata": {
        "id": "6ErPwIdNH4lx"
      },
      "execution_count": null,
      "outputs": []
    },
    {
      "cell_type": "code",
      "source": [
        "## Dependent and Independent Features\n",
        "X = df[['X1','X2','X1_square','X2_square','X1*X2']]\n",
        "Y = df['Y']"
      ],
      "metadata": {
        "id": "aSPzlEe-IfVt"
      },
      "execution_count": null,
      "outputs": []
    },
    {
      "cell_type": "code",
      "source": [
        "Y"
      ],
      "metadata": {
        "id": "Bz_PQYyXI4Y0"
      },
      "execution_count": null,
      "outputs": []
    },
    {
      "cell_type": "code",
      "source": [
        "x_train,x_test,y_train,y_test = train_test_split(X,Y, test_size = 0.25,random_state = 0)"
      ],
      "metadata": {
        "id": "bac9Jlh3I5eX"
      },
      "execution_count": null,
      "outputs": []
    },
    {
      "cell_type": "code",
      "source": [
        "import plotly.express as px\n",
        "\n",
        "fig = px.scatter_3d(df, x = 'X1', y = 'X2', z = 'X1*X2', color = 'Y')\n",
        "\n",
        "fig.show()"
      ],
      "metadata": {
        "id": "EYVZDLNfJO-m"
      },
      "execution_count": null,
      "outputs": []
    },
    {
      "cell_type": "code",
      "source": [
        "fig = px.scatter_3d(df, x  = 'X1_square', y = 'X2_square', z = 'X1*X2', color = 'Y')\n",
        "fig.show()"
      ],
      "metadata": {
        "id": "DCg5yvmxKC5z"
      },
      "execution_count": null,
      "outputs": []
    },
    {
      "cell_type": "code",
      "source": [
        "classifier = SVC(kernel = 'linear')\n",
        "classifier.fit(x_train, y_train)\n",
        "\n",
        "y_pred = classifier.predict(x_test)\n",
        "accuracy_score(y_pred, y_test)"
      ],
      "metadata": {
        "id": "3sy1EWi2G_-S"
      },
      "execution_count": null,
      "outputs": []
    }
  ]
}