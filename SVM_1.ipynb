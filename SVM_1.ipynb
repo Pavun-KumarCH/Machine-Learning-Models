{
  "nbformat": 4,
  "nbformat_minor": 0,
  "metadata": {
    "colab": {
      "private_outputs": true,
      "provenance": [],
      "authorship_tag": "ABX9TyPPPZxFePyywHdOTvccOcFb",
      "include_colab_link": true
    },
    "kernelspec": {
      "name": "python3",
      "display_name": "Python 3"
    },
    "language_info": {
      "name": "python"
    }
  },
  "cells": [
    {
      "cell_type": "markdown",
      "metadata": {
        "id": "view-in-github",
        "colab_type": "text"
      },
      "source": [
        "<a href=\"https://colab.research.google.com/github/Pavun-KumarCH/Machine-Learning-Models/blob/main/SVM_1.ipynb\" target=\"_parent\"><img src=\"https://colab.research.google.com/assets/colab-badge.svg\" alt=\"Open In Colab\"/></a>"
      ]
    },
    {
      "cell_type": "markdown",
      "source": [
        "# Suport Vector Machine Classification Algorithm"
      ],
      "metadata": {
        "id": "Z4nFz492zwtD"
      }
    },
    {
      "cell_type": "code",
      "execution_count": null,
      "metadata": {
        "id": "SBB7NN-4zwRv"
      },
      "outputs": [],
      "source": [
        "#import required libraris\n",
        "import io\n",
        "import pandas as pd\n",
        "import numpy as np\n",
        "import matplotlib.pyplot as plt\n",
        "from sklearn.model_selection import train_test_split"
      ]
    },
    {
      "cell_type": "markdown",
      "source": [
        "### load the dataset"
      ],
      "metadata": {
        "id": "SK3OtRAA0FMV"
      }
    },
    {
      "cell_type": "code",
      "source": [
        "from google.colab import files\n",
        "uploaded = files.upload()"
      ],
      "metadata": {
        "id": "c24rAV2g0HrN"
      },
      "execution_count": null,
      "outputs": []
    },
    {
      "cell_type": "code",
      "source": [
        "filename = next(iter(uploaded))\n",
        "filename"
      ],
      "metadata": {
        "id": "vdpelUhr0r9i"
      },
      "execution_count": null,
      "outputs": []
    },
    {
      "cell_type": "code",
      "source": [
        "data = pd.read_csv(io.BytesIO(uploaded[filename]))\n",
        "data.head()"
      ],
      "metadata": {
        "id": "0tQDTaNv0z9R"
      },
      "execution_count": null,
      "outputs": []
    },
    {
      "cell_type": "code",
      "source": [
        "data.shape"
      ],
      "metadata": {
        "id": "3pS7DaSt1OBB"
      },
      "execution_count": null,
      "outputs": []
    },
    {
      "cell_type": "code",
      "source": [
        "data.info()"
      ],
      "metadata": {
        "id": "_uyIvBI91Pva"
      },
      "execution_count": null,
      "outputs": []
    },
    {
      "cell_type": "markdown",
      "source": [
        "## Segregate the data into Features and Target"
      ],
      "metadata": {
        "id": "MXUvy6-j1eXJ"
      }
    },
    {
      "cell_type": "code",
      "source": [
        "X = data.iloc[:, [2,3]]\n",
        "Y = data.iloc[:, 4]"
      ],
      "metadata": {
        "id": "OCaKeect1d0U"
      },
      "execution_count": null,
      "outputs": []
    },
    {
      "cell_type": "code",
      "source": [
        "X.head()"
      ],
      "metadata": {
        "id": "vtJcak0u12kE"
      },
      "execution_count": null,
      "outputs": []
    },
    {
      "cell_type": "code",
      "source": [
        "Y.head()"
      ],
      "metadata": {
        "id": "uB72EoLU1_wG"
      },
      "execution_count": null,
      "outputs": []
    },
    {
      "cell_type": "markdown",
      "source": [
        "## Split the dataset into Train & Test"
      ],
      "metadata": {
        "id": "PHEBIUR12I52"
      }
    },
    {
      "cell_type": "code",
      "source": [
        "x_train,x_test,y_train,y_test = train_test_split(X,Y, test_size =0.25, shuffle = True, random_state = 0)"
      ],
      "metadata": {
        "id": "dvx2oLbO2BmV"
      },
      "execution_count": null,
      "outputs": []
    },
    {
      "cell_type": "code",
      "source": [
        "print(\"Train data\", x_train.shape)\n",
        "print(\"Test data\", x_test.shape)"
      ],
      "metadata": {
        "id": "aHDKKjTm2g9H"
      },
      "execution_count": null,
      "outputs": []
    },
    {
      "cell_type": "code",
      "source": [
        "# Feature Scaling\n",
        "from sklearn.preprocessing import StandardScaler\n",
        "\n",
        "sc = StandardScaler()\n",
        "\n",
        "x_train = sc.fit_transform(x_train)\n",
        "x_test = sc.fit_transform(x_test)"
      ],
      "metadata": {
        "id": "_xiX3VJ326-d"
      },
      "execution_count": null,
      "outputs": []
    },
    {
      "cell_type": "markdown",
      "source": [
        "# Applying Support vector machine"
      ],
      "metadata": {
        "id": "bP67GGkx3Y0H"
      }
    },
    {
      "cell_type": "markdown",
      "source": [
        "**Types of kernel:**\n",
        "\n",
        "liner,\n",
        "\n",
        "RBF kernel,\n",
        "\n",
        "polynominal,\n",
        "\n",
        "sigmoid"
      ],
      "metadata": {
        "id": "aL56up2Q5ezw"
      }
    },
    {
      "cell_type": "markdown",
      "source": [
        "## SVM with Linear Kernel"
      ],
      "metadata": {
        "id": "jnIpL4Z97Eo_"
      }
    },
    {
      "cell_type": "code",
      "source": [
        "from sklearn.svm import SVC\n",
        "classifier = SVC(kernel = 'linear', random_state = 0)\n",
        "classifier.fit(x_train, y_train)"
      ],
      "metadata": {
        "id": "FHO38Y-Y3bu7"
      },
      "execution_count": null,
      "outputs": []
    },
    {
      "cell_type": "markdown",
      "source": [
        "## Predict On the test Data"
      ],
      "metadata": {
        "id": "bXhEnDFv5-SF"
      }
    },
    {
      "cell_type": "code",
      "source": [
        "pred_y = classifier.predict(x_test)\n",
        "pred_y"
      ],
      "metadata": {
        "id": "wAXucoA1415U"
      },
      "execution_count": null,
      "outputs": []
    },
    {
      "cell_type": "markdown",
      "source": [
        "## Evaluation"
      ],
      "metadata": {
        "id": "qa2v8aLu6Ky2"
      }
    },
    {
      "cell_type": "code",
      "source": [
        "from sklearn.metrics import accuracy_score, classification_report\n",
        "\n",
        "print(\"Accuracy Score with Linear Kernel\")\n",
        "print(classification_report(y_test, pred_y))\n",
        "accuracy_score(y_test, pred_y)"
      ],
      "metadata": {
        "id": "8X3bfG836KRy"
      },
      "execution_count": null,
      "outputs": []
    },
    {
      "cell_type": "markdown",
      "source": [
        "## SVM with RBF Kernel"
      ],
      "metadata": {
        "id": "nzJPYtFz7H9_"
      }
    },
    {
      "cell_type": "code",
      "source": [
        "classifier = SVC(kernel = 'rbf', random_state = 0)\n",
        "classifier.fit(x_train, y_train)"
      ],
      "metadata": {
        "id": "YIocHKnJ7C63"
      },
      "execution_count": null,
      "outputs": []
    },
    {
      "cell_type": "code",
      "source": [
        "y_pred = classifier.predict(x_test)\n",
        "y_pred"
      ],
      "metadata": {
        "id": "BRUDCWTM7PJR"
      },
      "execution_count": null,
      "outputs": []
    },
    {
      "cell_type": "code",
      "source": [
        "print(\"Accuracy Score with RBF Kernel\")\n",
        "\n",
        "accuracy_score(y_test, y_pred)\n",
        "print(classification_report(y_test, y_pred))\n"
      ],
      "metadata": {
        "id": "ac3uAEJZ7Um3"
      },
      "execution_count": null,
      "outputs": []
    },
    {
      "cell_type": "markdown",
      "source": [
        "Here Gama Simple means for chossing right hyper plane  we want to calculate the gap between line and data point\n",
        "\n"
      ],
      "metadata": {
        "id": "W0Wk-eTS8Qif"
      }
    },
    {
      "cell_type": "code",
      "source": [
        "classifier = SVC(kernel = 'rbf', gamma = 10, C= 7, random_state = 0)\n",
        "classifier.fit(x_train, y_train)\n",
        "y_pred = classifier.predict(x_test)\n",
        "\n",
        "print(\"Accuracy Score with RBF Kernel\")\n",
        "accuracy_score(y_test, y_pred)\n",
        "print(classification_report(y_test, y_pred))\n"
      ],
      "metadata": {
        "id": "sUso17b-7iqV"
      },
      "execution_count": null,
      "outputs": []
    },
    {
      "cell_type": "markdown",
      "source": [
        "### Polynomial kernal"
      ],
      "metadata": {
        "id": "4bvRhvFWUDYg"
      }
    },
    {
      "cell_type": "code",
      "source": [
        "classifier = SVC(kernel = 'poly', degree = 9)\n",
        "classifier.fit(x_train, y_train)\n",
        "y_pred = classifier.predict(x_test)\n",
        "\n",
        "print(\"Accuracy Score with Poly Kernel\")\n",
        "accuracy_score(y_test, y_pred)\n",
        "print(classification_report(y_test, y_pred))\n"
      ],
      "metadata": {
        "id": "lphhzGQ8UC2p"
      },
      "execution_count": null,
      "outputs": []
    },
    {
      "cell_type": "markdown",
      "source": [
        "## Graphical Representation"
      ],
      "metadata": {
        "id": "3YdGyD_0zaqR"
      }
    },
    {
      "cell_type": "code",
      "source": [
        "plt.scatter(x_train[:, 0], x_train[:, 1], c = y_train)\n",
        "plt.xlabel(\"Age\")\n",
        "plt.ylabel(\"Estimated Salary\")\n",
        "plt.title(\"Training Data\")\n",
        "plt.show()"
      ],
      "metadata": {
        "id": "cFZ53lQ_zaDt"
      },
      "execution_count": null,
      "outputs": []
    },
    {
      "cell_type": "code",
      "source": [
        "plt.scatter(x_test[:, 0], x_test[:, 1], c = y_test)\n",
        "plt.xlabel('Age')\n",
        "plt.ylabel('Estimated Salary')\n",
        "plt.title('Test data')\n",
        "plt.show()"
      ],
      "metadata": {
        "id": "cGgJBelbz0F8"
      },
      "execution_count": null,
      "outputs": []
    },
    {
      "cell_type": "code",
      "source": [
        "from sklearn.svm import SVC\n",
        "classifier = SVC(kernel = 'linear', random_state = 0)\n",
        "classifier.fit(x_train, y_train)\n",
        "\n",
        "pred_y = classifier.predict(x_test)\n",
        "\n",
        "\n",
        "plt.scatter(x_test[:, 0], x_test[:, 1], c = y_test)\n",
        "\n",
        "# Create a Hyperplane\n",
        "w = classifier.coef_[0]\n",
        "a = -w[0]/w[1]\n",
        "xx = np.linspace(-2.5, 2.5)\n",
        "yy = a * xx - (classifier.intercept_[0])/ w[1]\n",
        "\n",
        "# Plot Hyperplane\n",
        "plt.plot(xx,yy)\n",
        "plt.axis(\"off\")\n",
        "plt.show()"
      ],
      "metadata": {
        "id": "btyJDoqB0EGm"
      },
      "execution_count": null,
      "outputs": []
    }
  ]
}